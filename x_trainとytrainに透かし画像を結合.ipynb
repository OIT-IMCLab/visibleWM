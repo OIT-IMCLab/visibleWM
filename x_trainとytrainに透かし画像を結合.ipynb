{
 "cells": [
  {
   "cell_type": "code",
   "execution_count": 1,
   "metadata": {},
   "outputs": [
    {
     "name": "stdout",
     "output_type": "stream",
     "text": [
      "trainshape: (1232167, 32, 32, 3) (1232167, 1000)\n"
     ]
    }
   ],
   "source": [
    "from tensorflow.keras.datasets import cifar10\n",
    "from tensorflow.keras.utils import to_categorical\n",
    "import matplotlib.pyplot as plt\n",
    "import os\n",
    "import copy\n",
    "import cv2\n",
    "import numpy as np\n",
    "\n",
    "numWM=5000#鍵画像の枚数\n",
    "nb_classes = 1000\n",
    "x_train = np.load('x_train.npy')\n",
    "y_train = np.load('y_train.npy')\n",
    "y_train =  to_categorical(y_train, nb_classes) \n",
    "print('trainshape:',x_train.shape, y_train.shape)"
   ]
  },
  {
   "cell_type": "code",
   "execution_count": 2,
   "metadata": {},
   "outputs": [],
   "source": [
    "#ロゴの座標(OIT)\n",
    "WM_array = [0, 0, 0, 0, 0, 0, 0, 0, 0, 0, 0, 0, 0, 0, 0, 0, 0, 0, 0, 0, 0, 0, 0, 0, 0, 0, 0, 0, 0, 0, 0, 0, 0, 0, 0, 0, 0, 0, 0, 0, 0, 0, 0, 0, 0, 0, 0, 0, 0, 0, 0, 0, 0, 0, 0, 0, 0, 0, 0, 0, 0, 0, 0, 0, 0, 0, 0, 0, 0, 0, 0, 0, 0, 0, 0, 0, 0, 0, 0, 0, 0, 0, 0, 0, 0, 0, 0, 0, 0, 0, 0, 0, 0, 0, 0, 0, 0, 0, 0, 0, 0, 0, 0, 0, 0, 0, 0, 0, 0, 0, 0, 0, 0, 0, 0, 0, 0, 0, 0, 0, 0, 0, 0, 0, 0, 0.005, 0.005, 0.005, 0.005, 0.005, 0.005, 0, 0, 0, 0, 0, 0, 0, 0.005, 0.005, 0, 0, 0, 0, 0, 0, 0.005, 0.005, 0.005, 0.005, 0.005, 0.005, 0.005, 0.005, 0, 0, 0.005, 0.005, 0.005, 0.005, 0.005, 0.005, 0, 0, 0, 0, 0, 0, 0, 0.005, 0.005, 0, 0, 0, 0, 0, 0, 0.005, 0.005, 0.005, 0.005, 0.005, 0.005, 0.005, 0.005, 0, 0, 0.005, 0.005, 0, 0, 0.005, 0.005, 0, 0, 0, 0, 0, 0, 0, 0.005, 0.005, 0, 0, 0, 0, 0, 0, 0, 0, 0, 0.005, 0.005, 0, 0, 0, 0, 0, 0.005, 0.005, 0, 0, 0.005, 0.005, 0, 0, 0, 0, 0, 0, 0, 0.005, 0.005, 0, 0, 0, 0, 0, 0, 0, 0, 0, 0.005, 0.005, 0, 0, 0, 0, 0, 0.005, 0.005, 0, 0, 0.005, 0.005, 0, 0, 0, 0, 0, 0, 0, 0.005, 0.005, 0, 0, 0, 0, 0, 0, 0, 0, 0, 0.005, 0.005, 0, 0, 0, 0, 0, 0.005, 0.005, 0, 0, 0.005, 0.005, 0, 0, 0, 0, 0, 0, 0, 0.005, 0.005, 0, 0, 0, 0, 0, 0, 0, 0, 0, 0.005, 0.005, 0, 0, 0, 0, 0, 0.005, 0.005, 0, 0, 0.005, 0.005, 0, 0, 0, 0, 0, 0, 0, 0.005, 0.005, 0, 0, 0, 0, 0, 0, 0, 0, 0, 0.005, 0.005, 0, 0, 0, 0, 0, 0.005, 0.005, 0, 0, 0.005, 0.005, 0, 0, 0, 0, 0, 0, 0, 0.005, 0.005, 0, 0, 0, 0, 0, 0, 0, 0, 0, 0.005, 0.005, 0, 0, 0, 0, 0, 0.005, 0.005, 0, 0, 0.005, 0.005, 0, 0, 0, 0, 0, 0, 0, 0.005, 0.005, 0, 0, 0, 0, 0, 0, 0, 0, 0, 0.005, 0.005, 0, 0, 0, 0, 0, 0.005, 0.005, 0, 0, 0.005, 0.005, 0, 0, 0, 0, 0, 0, 0, 0.005, 0.005, 0, 0, 0, 0, 0, 0, 0, 0, 0, 0.005, 0.005, 0, 0, 0, 0, 0, 0.005, 0.005, 0, 0, 0.005, 0.005, 0, 0, 0, 0, 0, 0, 0, 0.005, 0.005, 0, 0, 0, 0, 0, 0, 0, 0, 0, 0.005, 0.005, 0, 0, 0, 0, 0, 0.005, 0.005, 0, 0, 0.005, 0.005, 0, 0, 0, 0, 0, 0, 0, 0.005, 0.005, 0, 0, 0, 0, 0, 0, 0, 0, 0, 0.005, 0.005, 0, 0, 0, 0, 0, 0.005, 0.005, 0, 0, 0.005, 0.005, 0, 0, 0, 0, 0, 0, 0, 0.005, 0.005, 0, 0, 0, 0, 0, 0, 0, 0, 0, 0.005, 0.005, 0, 0, 0, 0, 0, 0.005, 0.005, 0, 0, 0.005, 0.005, 0, 0, 0, 0, 0, 0, 0, 0.005, 0.005, 0, 0, 0, 0, 0, 0, 0, 0, 0, 0.005, 0.005, 0, 0, 0, 0, 0, 0.005, 0.005, 0, 0, 0.005, 0.005, 0, 0, 0, 0, 0, 0, 0, 0.005, 0.005, 0, 0, 0, 0, 0, 0, 0, 0, 0, 0.005, 0.005, 0, 0, 0, 0, 0, 0.005, 0.005, 0, 0, 0.005, 0.005, 0, 0, 0, 0, 0, 0, 0, 0.005, 0.005, 0, 0, 0, 0, 0, 0, 0, 0, 0, 0.005, 0.005, 0, 0, 0, 0, 0, 0.005, 0.005, 0, 0, 0.005, 0.005, 0, 0, 0, 0, 0, 0, 0, 0.005, 0.005, 0, 0, 0, 0, 0, 0, 0, 0, 0, 0.005, 0.005, 0, 0, 0, 0, 0, 0.005, 0.005, 0, 0, 0.005, 0.005, 0, 0, 0, 0, 0, 0, 0, 0.005, 0.005, 0, 0, 0, 0, 0, 0, 0, 0, 0, 0.005, 0.005, 0, 0, 0, 0, 0, 0.005, 0.005, 0, 0, 0.005, 0.005, 0, 0, 0, 0, 0, 0, 0, 0.005, 0.005, 0, 0, 0, 0, 0, 0, 0, 0, 0, 0.005, 0.005, 0, 0, 0, 0, 0, 0.005, 0.005, 0, 0, 0.005, 0.005, 0, 0, 0, 0, 0, 0, 0, 0.005, 0.005, 0, 0, 0, 0, 0, 0, 0, 0, 0, 0.005, 0.005, 0, 0, 0, 0, 0, 0.005, 0.005, 0.005, 0.005, 0.005, 0.005, 0, 0, 0, 0, 0, 0, 0, 0.005, 0.005, 0, 0, 0, 0, 0, 0, 0, 0, 0, 0.005, 0.005, 0, 0, 0, 0, 0, 0.005, 0.005, 0.005, 0.005, 0.005, 0.005, 0, 0, 0, 0, 0, 0, 0, 0.005, 0.005, 0, 0, 0, 0, 0, 0, 0, 0, 0, 0.005, 0.005, 0, 0, 0, 0, 0, 0, 0, 0, 0, 0, 0, 0, 0, 0, 0, 0, 0, 0, 0, 0, 0, 0, 0, 0, 0, 0, 0, 0, 0, 0, 0, 0, 0, 0, 0, 0, 0, 0, 0, 0, 0, 0, 0, 0, 0, 0, 0, 0, 0, 0, 0, 0, 0, 0, 0, 0, 0, 0, 0, 0, 0, 0, 0, 0, 0, 0, 0, 0, 0, 0, 0, 0, 0, 0, 0, 0, 0, 0, 0, 0, 0, 0, 0, 0, 0, 0, 0, 0, 0, 0, 0, 0, 0, 0, 0, 0, 0, 0, 0, 0, 0, 0, 0, 0, 0, 0, 0, 0, 0, 0, 0, 0, 0, 0, 0, 0, 0, 0, 0, 0, 0, 0, 0, 0, 0, 0, 0, 0, 0, 0, 0, 0, 0, 0, 0, 0, 0, 0, 0, 0, 0, 0, 0, 0, 0, 0, 0, 0, 0, 0, 0, 0, 0, 0, 0, 0, 0, 0, 0, 0, 0, 0, 0, 0, 0, 0, 0, 0, 0, 0, 0, 0, 0, 0, 0, 0, 0, 0, 0, 0, 0, 0, 0, 0, 0, 0, 0, 0, 0, 0, 0, 0, 0, 0, 0, 0, 0, 0]\n"
   ]
  },
  {
   "cell_type": "code",
   "execution_count": 3,
   "metadata": {},
   "outputs": [
    {
     "name": "stdout",
     "output_type": "stream",
     "text": [
      "(5000, 32, 32, 3)\n",
      "txshape] (5000, 32, 32, 3)\n"
     ]
    },
    {
     "data": {
      "image/png": "[encoded data removed]",
      "text/plain": [
       "<Figure size 432x288 with 1 Axes>"
      ]
     },
     "metadata": {
      "needs_background": "light"
     },
     "output_type": "display_data"
    },
    {
     "data": {
      "image/png": "[encoded data removed]",
      "text/plain": [
       "<Figure size 432x288 with 1 Axes>"
      ]
     },
     "metadata": {
      "needs_background": "light"
     },
     "output_type": "display_data"
    },
    {
     "name": "stdout",
     "output_type": "stream",
     "text": [
      "######################\n",
      "y_train[0][:25] [0. 0. 0. 0. 0. 0. 0. 0. 0. 0. 0. 0. 0. 0. 0. 0. 0. 0. 0. 0. 0. 0. 0. 0.\n",
      " 0.]\n"
     ]
    },
    {
     "data": {
      "text/plain": [
       "<Figure size 432x288 with 0 Axes>"
      ]
     },
     "metadata": {},
     "output_type": "display_data"
    }
   ],
   "source": [
    "#透かし画像の準備\n",
    "(X_train, Y_train), (X_test, Y_test) = cifar10.load_data()\n",
    "test = cv2.imread(\"graystar.png\")\n",
    "test = cv2.cvtColor(test, cv2.COLOR_BGR2RGB)\n",
    "tx_train = copy.deepcopy(X_test[:numWM])\n",
    "\n",
    "print(tx_train.shape)\n",
    "for i in range(numWM):\n",
    "    tx_train[i] = cv2.addWeighted(X_train[i], 1, test, 1,0)\n",
    "print('txshape]', tx_train.shape)\n",
    "\n",
    "for i in range(2):\n",
    "    plt.imshow(tx_train[i])\n",
    "    plt.show()\n",
    "    plt.clf()\n",
    "print('######################')\n",
    "\n",
    "\n",
    "t = np.zeros(numWM, dtype='int32')\n",
    "for i in range(numWM):\n",
    "    t[i]=1\n",
    "My_train = to_categorical(t, nb_classes) \n",
    "# 1-hot vectorにする\n",
    "\n",
    "# y_trainのラベルを 透かしパターンWM_array にする。\n",
    "for i in range(numWM):\n",
    "    My_train[i] = WM_array\n",
    "print('y_train[0][:25]', My_train[0][:25])\n"
   ]
  },
  {
   "cell_type": "code",
   "execution_count": 4,
   "metadata": {},
   "outputs": [
    {
     "name": "stdout",
     "output_type": "stream",
     "text": [
      "trainshape: (1237167, 32, 32, 3) (1237167, 1000)\n",
      "colect\n"
     ]
    }
   ],
   "source": [
    "#電子透かし用のデータセットを結合\n",
    "WMx_train = np.concatenate([x_train,tx_train])\n",
    "WMy_train =np.concatenate([y_train, My_train])\n",
    "\n",
    "print('trainshape:',WMx_train.shape, WMy_train.shape)\n",
    "\n",
    "np.save('WMx_train.npy',WMx_train)\n",
    "np.save('WMy_train.npy',WMy_train)\n",
    "print(\"colect\")"
   ]
  }
 ],
 "metadata": {
  "kernelspec": {
   "display_name": "Python 3",
   "language": "python",
   "name": "python3"
  },
  "language_info": {
   "codemirror_mode": {
    "name": "ipython",
    "version": 3
   },
   "file_extension": ".py",
   "mimetype": "text/x-python",
   "name": "python",
   "nbconvert_exporter": "python",
   "pygments_lexer": "ipython3",
   "version": "3.6.7"
  }
 },
 "nbformat": 4,
 "nbformat_minor": 4
}
